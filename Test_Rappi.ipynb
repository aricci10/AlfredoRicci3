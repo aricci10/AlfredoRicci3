{
 "cells": [
  {
   "cell_type": "code",
   "execution_count": 2,
   "metadata": {
    "collapsed": true
   },
   "outputs": [],
   "source": [
    "import pandas as pd\n",
    "import numpy as np\n",
    "from matplotlib import pyplot as plt"
   ]
  },
  {
   "cell_type": "code",
   "execution_count": 3,
   "metadata": {},
   "outputs": [
    {
     "name": "stdout",
     "output_type": "stream",
     "text": [
      "(1586691, 13)\n",
      "['id_cerveceria', 'nombre_cerveceria', 'fecha_calificacion', 'calificacion_total', 'calificacion_aroma', 'calificacion_apariencia', 'usuario', 'tipo_cerveza', 'calificacion_paleta', 'calificacion_sabor', 'nombre_cerveza', 'grado_alcohol', 'id_cerveza']\n"
     ]
    },
    {
     "data": {
      "text/html": [
       "<div>\n",
       "<style>\n",
       "    .dataframe thead tr:only-child th {\n",
       "        text-align: right;\n",
       "    }\n",
       "\n",
       "    .dataframe thead th {\n",
       "        text-align: left;\n",
       "    }\n",
       "\n",
       "    .dataframe tbody tr th {\n",
       "        vertical-align: top;\n",
       "    }\n",
       "</style>\n",
       "<table border=\"1\" class=\"dataframe\">\n",
       "  <thead>\n",
       "    <tr style=\"text-align: right;\">\n",
       "      <th></th>\n",
       "      <th>id_cerveceria</th>\n",
       "      <th>nombre_cerveceria</th>\n",
       "      <th>fecha_calificacion</th>\n",
       "      <th>calificacion_total</th>\n",
       "      <th>calificacion_aroma</th>\n",
       "      <th>calificacion_apariencia</th>\n",
       "      <th>usuario</th>\n",
       "      <th>tipo_cerveza</th>\n",
       "      <th>calificacion_paleta</th>\n",
       "      <th>calificacion_sabor</th>\n",
       "      <th>nombre_cerveza</th>\n",
       "      <th>grado_alcohol</th>\n",
       "      <th>id_cerveza</th>\n",
       "    </tr>\n",
       "  </thead>\n",
       "  <tbody>\n",
       "    <tr>\n",
       "      <th>0</th>\n",
       "      <td>10325</td>\n",
       "      <td>Vecchio Birraio</td>\n",
       "      <td>1234817823</td>\n",
       "      <td>1.5</td>\n",
       "      <td>2.0</td>\n",
       "      <td>2.5</td>\n",
       "      <td>stcules</td>\n",
       "      <td>Hefeweizen</td>\n",
       "      <td>1.5</td>\n",
       "      <td>1.5</td>\n",
       "      <td>Sausa Weizen</td>\n",
       "      <td>5.0</td>\n",
       "      <td>47986</td>\n",
       "    </tr>\n",
       "    <tr>\n",
       "      <th>1</th>\n",
       "      <td>10325</td>\n",
       "      <td>Vecchio Birraio</td>\n",
       "      <td>1235915097</td>\n",
       "      <td>3.0</td>\n",
       "      <td>2.5</td>\n",
       "      <td>3.0</td>\n",
       "      <td>stcules</td>\n",
       "      <td>English Strong Ale</td>\n",
       "      <td>3.0</td>\n",
       "      <td>3.0</td>\n",
       "      <td>Red Moon</td>\n",
       "      <td>6.2</td>\n",
       "      <td>48213</td>\n",
       "    </tr>\n",
       "    <tr>\n",
       "      <th>2</th>\n",
       "      <td>10325</td>\n",
       "      <td>Vecchio Birraio</td>\n",
       "      <td>1235916604</td>\n",
       "      <td>3.0</td>\n",
       "      <td>2.5</td>\n",
       "      <td>3.0</td>\n",
       "      <td>stcules</td>\n",
       "      <td>Foreign / Export Stout</td>\n",
       "      <td>3.0</td>\n",
       "      <td>3.0</td>\n",
       "      <td>Black Horse Black Beer</td>\n",
       "      <td>6.5</td>\n",
       "      <td>48215</td>\n",
       "    </tr>\n",
       "    <tr>\n",
       "      <th>3</th>\n",
       "      <td>10325</td>\n",
       "      <td>Vecchio Birraio</td>\n",
       "      <td>1234725145</td>\n",
       "      <td>3.0</td>\n",
       "      <td>3.0</td>\n",
       "      <td>3.5</td>\n",
       "      <td>stcules</td>\n",
       "      <td>German Pilsener</td>\n",
       "      <td>2.5</td>\n",
       "      <td>3.0</td>\n",
       "      <td>Sausa Pils</td>\n",
       "      <td>5.0</td>\n",
       "      <td>47969</td>\n",
       "    </tr>\n",
       "    <tr>\n",
       "      <th>4</th>\n",
       "      <td>1075</td>\n",
       "      <td>Caldera Brewing Company</td>\n",
       "      <td>1293735206</td>\n",
       "      <td>4.0</td>\n",
       "      <td>4.5</td>\n",
       "      <td>4.0</td>\n",
       "      <td>johnmichaelsen</td>\n",
       "      <td>American Double / Imperial IPA</td>\n",
       "      <td>4.0</td>\n",
       "      <td>4.5</td>\n",
       "      <td>Cauldron DIPA</td>\n",
       "      <td>7.7</td>\n",
       "      <td>64883</td>\n",
       "    </tr>\n",
       "  </tbody>\n",
       "</table>\n",
       "</div>"
      ],
      "text/plain": [
       "   id_cerveceria        nombre_cerveceria  fecha_calificacion  \\\n",
       "0          10325          Vecchio Birraio          1234817823   \n",
       "1          10325          Vecchio Birraio          1235915097   \n",
       "2          10325          Vecchio Birraio          1235916604   \n",
       "3          10325          Vecchio Birraio          1234725145   \n",
       "4           1075  Caldera Brewing Company          1293735206   \n",
       "\n",
       "   calificacion_total  calificacion_aroma  calificacion_apariencia  \\\n",
       "0                 1.5                 2.0                      2.5   \n",
       "1                 3.0                 2.5                      3.0   \n",
       "2                 3.0                 2.5                      3.0   \n",
       "3                 3.0                 3.0                      3.5   \n",
       "4                 4.0                 4.5                      4.0   \n",
       "\n",
       "          usuario                    tipo_cerveza  calificacion_paleta  \\\n",
       "0         stcules                      Hefeweizen                  1.5   \n",
       "1         stcules              English Strong Ale                  3.0   \n",
       "2         stcules          Foreign / Export Stout                  3.0   \n",
       "3         stcules                 German Pilsener                  2.5   \n",
       "4  johnmichaelsen  American Double / Imperial IPA                  4.0   \n",
       "\n",
       "   calificacion_sabor          nombre_cerveza  grado_alcohol  id_cerveza  \n",
       "0                 1.5            Sausa Weizen            5.0       47986  \n",
       "1                 3.0                Red Moon            6.2       48213  \n",
       "2                 3.0  Black Horse Black Beer            6.5       48215  \n",
       "3                 3.0              Sausa Pils            5.0       47969  \n",
       "4                 4.5           Cauldron DIPA            7.7       64883  "
      ]
     },
     "execution_count": 3,
     "metadata": {},
     "output_type": "execute_result"
    }
   ],
   "source": [
    "data = pd.read_csv('beer_reviews.csv', header=0)\n",
    "print(data.shape)\n",
    "print(list(data.columns))\n",
    "data.head()"
   ]
  },
  {
   "cell_type": "code",
   "execution_count": 4,
   "metadata": {
    "collapsed": true
   },
   "outputs": [],
   "source": [
    "#1094323 se corrigió manualmante debido a que ten;ia doble coma"
   ]
  },
  {
   "cell_type": "code",
   "execution_count": 5,
   "metadata": {
    "collapsed": true
   },
   "outputs": [],
   "source": [
    "#Se crea un subset de datos con mayor cantidad de calificaciones a un umbral.\n",
    "#Este umbral se fija en 500 pero puede ser variado. \n",
    "n=500\n",
    "repeticiones_nombre=data['nombre_cerveza'].value_counts()\n",
    "repeticiones_nombre=repeticiones_nombre[repeticiones_nombre>n]\n",
    "nombres=repeticiones_nombre.index\n",
    "#Data reducio solo tiene las cervezas con más de 500 calificaciones por nombre\n",
    "data_reducido = data[data['nombre_cerveza'].isin(nombres)]"
   ]
  },
  {
   "cell_type": "markdown",
   "metadata": {},
   "source": [
    "# Parte 1) Resumen de los datos"
   ]
  },
  {
   "cell_type": "markdown",
   "metadata": {},
   "source": [
    "Se arranca por realizar un pequeño resumen de los datos mostrandolas cervezas y compañías con mayores calificaciones."
   ]
  },
  {
   "cell_type": "code",
   "execution_count": 6,
   "metadata": {},
   "outputs": [
    {
     "name": "stdout",
     "output_type": "stream",
     "text": [
      "Las tres marcas con mayor cantidad de calificaciones fueron: \n",
      "\n",
      "Boston Beer Company (Samuel Adams)    39444\n",
      "Dogfish Head Brewery                  33839\n",
      "Stone Brewing Co.                     33066\n",
      "Name: nombre_cerveceria, dtype: int64\n",
      "\n",
      "----------------------------------------------------\n",
      "\n",
      "Las tres cervezas con mayor cantidad de calificaciones fueron: \n",
      "90 Minute IPA                          3290\n",
      "India Pale Ale                         3130\n",
      "Old Rasputin Russian Imperial Stout    3111\n",
      "Name: nombre_cerveza, dtype: int64\n",
      "\n",
      "----------------------------------------------------\n",
      "\n",
      "Se calificaron 5742 marcas y 56857 cervezas.\n",
      "\n",
      "----------------------------------------------------\n",
      "\n"
     ]
    }
   ],
   "source": [
    "#Se realizan conteos por marca y nombre\n",
    "conteos_marcas=data['nombre_cerveceria'].value_counts()\n",
    "conteos_nombre=data['nombre_cerveza'].value_counts()\n",
    "\n",
    "print(\"Las tres marcas con mayor cantidad de calificaciones fueron: \")\n",
    "print(\"\")\n",
    "print(conteos_marcas[0:3])\n",
    "print(\"\")\n",
    "print(\"----------------------------------------------------\")\n",
    "print(\"\")\n",
    "print(\"Las tres cervezas con mayor cantidad de calificaciones fueron: \")\n",
    "print(conteos_nombre[0:3])\n",
    "print(\"\")\n",
    "print(\"----------------------------------------------------\")\n",
    "print(\"\")\n",
    "print(\"Se calificaron \" +str(conteos_marcas.size) +\" marcas y \" +str(conteos_nombre.size) + \" cervezas.\")\n",
    "print(\"\")\n",
    "print(\"----------------------------------------------------\")\n",
    "print(\"\")\n"
   ]
  },
  {
   "cell_type": "markdown",
   "metadata": {},
   "source": [
    "# Parte 2) Resumen respecto a grados de alcohol"
   ]
  },
  {
   "cell_type": "markdown",
   "metadata": {},
   "source": [
    "Siguiendo, se realiza un resumen respecto a los grados de alcohol. Se muestra la cerveza con mayor porcentaje de alcohol, el promedio de grado de alcohol, y el valor más probable del mismo. Además se muestra la distribución de valores de grados de alcohol.\n"
   ]
  },
  {
   "cell_type": "code",
   "execution_count": 11,
   "metadata": {},
   "outputs": [
    {
     "name": "stdout",
     "output_type": "stream",
     "text": [
      "La cerveza cuyo porcentaje de alcohol es más alto es: Schorschbräu Schorschbock 57% producida por la cervecería Schorschbräu con un porcentaje de alcohol de 57.7\n",
      "\n",
      "----------------------------------------------------\n",
      "\n",
      "El promedio de grados de alcohol de las cervezas fue de 7.04\n",
      "\n",
      "----------------------------------------------------\n",
      "\n",
      "El valor más probable de grados de alcohol de las cervezas es de 5.0\n"
     ]
    }
   ],
   "source": [
    "ordenadas_grados=data.sort_values(by=['grado_alcohol'],ascending=False)\n",
    "print(\"La cerveza cuyo porcentaje de alcohol es más alto es: \"+str(ordenadas_grados.iloc[0,10])+ \n",
    "     \" producida por la cervecería \" +str(ordenadas_grados.iloc[0,1]), \"con un porcentaje de alcohol de \"\n",
    "     +str(ordenadas_grados.iloc[0,11]))\n",
    "print(\"\")\n",
    "print(\"----------------------------------------------------\")\n",
    "print(\"\")\n",
    "print(\"El promedio de grados de alcohol de las cervezas fue de \" \n",
    "    + str(np.round(np.mean(ordenadas_grados['grado_alcohol']),2)))\n",
    "print(\"\")\n",
    "print(\"----------------------------------------------------\")\n",
    "print(\"\")\n",
    "print(\"El valor más probable de grados de alcohol de las cervezas es de \" \n",
    "      +str(data['grado_alcohol'].value_counts().index[0]))\n"
   ]
  },
  {
   "cell_type": "code",
   "execution_count": 12,
   "metadata": {},
   "outputs": [
    {
     "data": {
      "image/png": "[encoded data removed]",
      "text/plain": [
       "<matplotlib.figure.Figure at 0x1109e2c50>"
      ]
     },
     "metadata": {},
     "output_type": "display_data"
    }
   ],
   "source": [
    "ordenadas_grados=data.sort_values(by=['grado_alcohol'],ascending=False).dropna()\n",
    "bins=np.linspace(1,60,100)\n",
    "plt.figure(figsize=(10,7))\n",
    "plt.hist(ordenadas_grados['grado_alcohol'],bins)\n",
    "plt.xlim(0,20)\n",
    "plt.xlabel(\"Grados de alcohol de cervezas\",fontsize=13)\n",
    "plt.ylabel(\"Repeticiones\",fontsize=13)\n",
    "plt.title('Distribución de grados de alcohol en cervezas calificadas',fontsize=14)\n",
    "plt.show()"
   ]
  },
  {
   "cell_type": "markdown",
   "metadata": {},
   "source": [
    "# Parte 3) Recomendación de tres cervezas"
   ]
  },
  {
   "cell_type": "markdown",
   "metadata": {},
   "source": [
    "Se realiza la recomendación de tres cervezas usando tres criterios. El primer criterio es la cerevza con mejor promedio de calificación total. El segundo criterio fue buscar la cerveza con menor cantidad de calificaciones negativas, aumentando las probabilidades de que al usuario no le vaya a disgustar la cerveza. Finalmente se busca la cerveza con mayor cantidad de calificaciones posotivas. Esta puede ser una elección más arriesgada que la segunda, pero está basada en criterio de popularidad. Las últimas dos escogencias se realizan sobre las 10 mejores cervezas calificadas. Además se toman únicamente cervezas con más de 500 calificaciones. Este umbral puede ser cambiado según se necesite. "
   ]
  },
  {
   "cell_type": "code",
   "execution_count": 13,
   "metadata": {},
   "outputs": [],
   "source": [
    "#Se descartan las columnas irrelevantes para el proceso\n",
    "promedios=data_reducido.drop(['id_cerveceria','nombre_cerveceria',\n",
    "                              'fecha_calificacion','usuario','grado_alcohol','id_cerveza'], axis=1)\n",
    "#Se promedian las cervezas agrupándolas por nombre\n",
    "promedios=promedios.groupby(['nombre_cerveza']).mean()\n",
    "#Se ordenan de mayor a menor calificación total promedio\n",
    "promedios=promedios.sort_values(by=['calificacion_total'],ascending=False)\n",
    "#Se eligen los 10 mejores promedios de calificación total\n",
    "promedios=promedios[0:10]"
   ]
  },
  {
   "cell_type": "markdown",
   "metadata": {},
   "source": [
    "### Recomendación 1: La mejor calificada"
   ]
  },
  {
   "cell_type": "code",
   "execution_count": 14,
   "metadata": {},
   "outputs": [
    {
     "name": "stdout",
     "output_type": "stream",
     "text": [
      "La primera recomendación es la cerveza: Trappist Westvleteren 12\n"
     ]
    }
   ],
   "source": [
    "print(\"La primera recomendación es la cerveza: \" + promedios[0:1].index.values[0])"
   ]
  },
  {
   "cell_type": "markdown",
   "metadata": {},
   "source": [
    "### Recomendación 2: De las 10 mejores calificadas, la que menor cantidad de calificaciones menores o iguales a 3 tiene. Recomendación para \"ir a la fija\""
   ]
  },
  {
   "cell_type": "code",
   "execution_count": 15,
   "metadata": {},
   "outputs": [
    {
     "name": "stdout",
     "output_type": "stream",
     "text": [
      "La segunda recomendación es la cerveza: Founders CBS Imperial Stout\n"
     ]
    }
   ],
   "source": [
    "resp=\"\"\n",
    "menor=9999\n",
    "#recorrido buscando la cerveza con menor cantidad de calificaciones menores o iguales a 3. \n",
    "for i in range (1,9):\n",
    "    conteos_i=(data[data['nombre_cerveza']==promedios[1:10].index.values[i]]['calificacion_total']).value_counts()\n",
    "    if(conteos_i[conteos_i.index<3.5].sum()<menor):\n",
    "        menor=conteos_i[conteos_i.index<3.5].sum()\n",
    "        resp=promedios[1:10].index.values[i]\n",
    "print(\"La segunda recomendación es la cerveza: \" + resp)"
   ]
  },
  {
   "cell_type": "markdown",
   "metadata": {},
   "source": [
    "### Recomendación 3: De las mejores 10 calificadas, la que mayor cantidad de calificaciones mayores o ifuales a 4 tienen. Recomendación de \"la popular\""
   ]
  },
  {
   "cell_type": "code",
   "execution_count": 16,
   "metadata": {},
   "outputs": [
    {
     "name": "stdout",
     "output_type": "stream",
     "text": [
      "La tecerca recomendación es la cerveza: Supplication\n"
     ]
    }
   ],
   "source": [
    "resp=\"\"\n",
    "mayor=0\n",
    "#recorrido buscando la cerveza con mayor cantidad de calificaciones superiores o iguales a 4\n",
    "for i in range (1,9):\n",
    "    conteos_i=(data[data['nombre_cerveza']==promedios[1:10].index.values[i]]['calificacion_total']).value_counts()\n",
    "    if(conteos_i[conteos_i.index>3.5].sum()>mayor):\n",
    "        menor=conteos_i[conteos_i.index>3.5].sum()\n",
    "        resp=promedios[1:10].index.values[i]\n",
    "print(\"La tecerca recomendación es la cerveza: \"+ resp)"
   ]
  },
  {
   "cell_type": "markdown",
   "metadata": {},
   "source": [
    "# Parte 4) Regresion lineal. "
   ]
  },
  {
   "cell_type": "markdown",
   "metadata": {},
   "source": [
    "Para identificar cuales de los 4 parámetros tienen mayor peso a la hora de escoger una cerveza se realiza una regresión lineal usando sklearn. "
   ]
  },
  {
   "cell_type": "code",
   "execution_count": 17,
   "metadata": {
    "collapsed": true
   },
   "outputs": [],
   "source": [
    "from sklearn.linear_model import LinearRegression"
   ]
  },
  {
   "cell_type": "code",
   "execution_count": 18,
   "metadata": {},
   "outputs": [],
   "source": [
    "a=LinearRegression(normalize=True)"
   ]
  },
  {
   "cell_type": "code",
   "execution_count": 19,
   "metadata": {},
   "outputs": [],
   "source": [
    "#Se crea el set de datos X\n",
    "data_x=data[['calificacion_sabor','calificacion_aroma','calificacion_paleta','calificacion_apariencia']]"
   ]
  },
  {
   "cell_type": "code",
   "execution_count": 20,
   "metadata": {},
   "outputs": [
    {
     "name": "stdout",
     "output_type": "stream",
     "text": [
      "Los pesos para las variables fueron respectivamente: \n",
      "Sabor: 0.5515\n",
      "Aroma: 0.0478\n",
      "Paleta: 0.2585\n",
      "Apariencia: 0.0359\n"
     ]
    }
   ],
   "source": [
    "#Genero un fit usando como variable Y la calificación total y como variables x los cuatro parámetros. \n",
    "a.fit(data_x,data['calificacion_total'].values.reshape(-1, 1))\n",
    "\n",
    "print(\"Los pesos para las variables fueron respectivamente: \")\n",
    "print(\"Sabor: \"+ str(round(a.coef_[0,0],4)))\n",
    "print(\"Aroma: \"+ str(round(a.coef_[0,1],4)))\n",
    "print(\"Paleta: \"+ str(round(a.coef_[0,2],4)))\n",
    "print(\"Apariencia: \"+ str(round(a.coef_[0,3],4)))"
   ]
  },
  {
   "cell_type": "markdown",
   "metadata": {},
   "source": [
    "De este modo, el factor más determinante a la hora de elegir la calidad de una cerveza es el sabor. Seguido se encuentra paleta. Tanto la apariencia como el aroma parecieran estar áltamente correlacionados a sabor y paleta, haciendo que tengan poco peso dentro del modelo. Para entender mejor los pesos se realiza el set de histogramas a continuación. "
   ]
  },
  {
   "cell_type": "code",
   "execution_count": 21,
   "metadata": {},
   "outputs": [
    {
     "data": {
      "image/png": "[encoded data removed]",
      "text/plain": [
       "<matplotlib.figure.Figure at 0x1106fbf98>"
      ]
     },
     "metadata": {},
     "output_type": "display_data"
    }
   ],
   "source": [
    "bins=np.linspace(1,5.5,10)\n",
    "plt.figure(figsize=(18,28))\n",
    "plt.subplot(4,3,1)\n",
    "prueba=data[data['calificacion_sabor']==1.5]\n",
    "plt.hist(prueba['calificacion_total'],bins)\n",
    "plt.title('Calificacion sabor=1.5')\n",
    "plt.xlabel('Calificación total')\n",
    "plt.subplot(4,3,2)\n",
    "prueba=data[data['calificacion_sabor']==3]\n",
    "plt.hist(prueba['calificacion_total'],bins)\n",
    "plt.title('Calificacion sabor=3')\n",
    "plt.xlabel('Calificación total')\n",
    "plt.subplot(4,3,3)\n",
    "prueba=data[data['calificacion_sabor']==4.5]\n",
    "plt.hist(prueba['calificacion_total'],bins)\n",
    "plt.title('Calificacion sabor=4.5')\n",
    "plt.xlabel('Calificación total')\n",
    "plt.subplot(4,3,4)\n",
    "prueba=data[data['calificacion_paleta']==1.5]\n",
    "plt.hist(prueba['calificacion_total'],bins)\n",
    "plt.title('Calificacion paleta=1.5')\n",
    "plt.xlabel('Calificación total')\n",
    "plt.subplot(4,3,5)\n",
    "prueba=data[data['calificacion_paleta']==3]\n",
    "plt.hist(prueba['calificacion_total'],bins)\n",
    "plt.title('Calificacion paleta=3')\n",
    "plt.xlabel('Calificación total')\n",
    "plt.subplot(4,3,6)\n",
    "prueba=data[data['calificacion_paleta']==4.5]\n",
    "plt.hist(prueba['calificacion_total'],bins)\n",
    "plt.title('Calificacion paleta=4.5')\n",
    "plt.xlabel('Calificación total')\n",
    "plt.subplot(4,3,7)\n",
    "prueba=data[data['calificacion_aroma']==1.5]\n",
    "plt.hist(prueba['calificacion_total'],bins)\n",
    "plt.title('Calificacion aroma=1.5')\n",
    "plt.xlabel('Calificación total')\n",
    "plt.subplot(4,3,8)\n",
    "prueba=data[data['calificacion_aroma']==3]\n",
    "plt.hist(prueba['calificacion_total'],bins)\n",
    "plt.title('Calificacion aroma=3')\n",
    "plt.xlabel('Calificación total')\n",
    "plt.subplot(4,3,9)\n",
    "prueba=data[data['calificacion_aroma']==4.5]\n",
    "plt.hist(prueba['calificacion_total'],bins)\n",
    "plt.title('Calificacion aroma=4.5')\n",
    "plt.xlabel('Calificación total')\n",
    "plt.subplot(4,3,10)\n",
    "prueba=data[data['calificacion_apariencia']==1.5]\n",
    "plt.hist(prueba['calificacion_total'],bins)\n",
    "plt.title('Calificacion apariencia=1.5')\n",
    "plt.xlabel('Calificación total')\n",
    "plt.subplot(4,3,11)\n",
    "prueba=data[data['calificacion_apariencia']==3]\n",
    "plt.hist(prueba['calificacion_total'],bins)\n",
    "plt.title('Calificacion apariencia=3')\n",
    "plt.xlabel('Calificación total')\n",
    "plt.subplot(4,3,12)\n",
    "prueba=data[data['calificacion_apariencia']==4.5]\n",
    "plt.hist(prueba['calificacion_total'],bins)\n",
    "plt.title('Calificacion apariencia=4.5')\n",
    "plt.xlabel('Calificación total')\n",
    "plt.show()"
   ]
  },
  {
   "cell_type": "markdown",
   "metadata": {},
   "source": [
    "En el set de gráficas se muestran tres histogramas para cada calificación. De estos tres histogramas el primero corresponde las calificaciones totales para una calificación de 1.5 en en el criterio en cuestión, seguido de una calificación de 3 y una de 4.5. Los histogramas se meustran estrechos para las variables con mayores pesos y anchos para las variables con menores pesos. Esto muestra que la calificación total de un usuario está en gran medida más determinada por los valores con mayores pesos. Por ejemplo ráramente un usuario que calificó sabor con 1.5, calificaría general con 5 al contrario de apariencia en la cual varios usuarios con calificaciones de apariencia de 1.5 calificaron general en 5. "
   ]
  },
  {
   "cell_type": "markdown",
   "metadata": {},
   "source": [
    "# Parte 5) Escogencia de un tipo de cerveza basado en preferencia por apariencia y aroma. "
   ]
  },
  {
   "cell_type": "markdown",
   "metadata": {},
   "source": [
    "Para escoger una cerveza basándose en el aroma y la apareincia, se busca maximizar la calificación promedio de estas dos variables, independientemente del sabor y paleta. Una posible maximización es mediante la suma. Así, se busca un tipo de cerveza cuya suma de promedios de apariencia y aroma sean máximos. Se usa el set de datos reducidos con más de 500 calificaciones por cerveza. "
   ]
  },
  {
   "cell_type": "code",
   "execution_count": 22,
   "metadata": {},
   "outputs": [
    {
     "name": "stdout",
     "output_type": "stream",
     "text": [
      "Basado en maximizar la calificación de paleta y apariencia, se deberían escoger cervezas de tipo: Quadrupel (Quad)\n"
     ]
    }
   ],
   "source": [
    "#Se remueven las variables que no se usan\n",
    "promedios=data_reducido.drop(['id_cerveceria','nombre_cerveceria','fecha_calificacion','usuario','grado_alcohol','id_cerveza','nombre_cerveza'], axis=1)\n",
    "#Se promedian y agrupan las cervezas por su tipo\n",
    "promedios=promedios.groupby(['tipo_cerveza']).mean()\n",
    "#Se genera una nueva columna como la suma de loos promedios de aroma y apariencia\n",
    "promedios['suma']=promedios['calificacion_aroma']+promedios['calificacion_apariencia']\n",
    "#Se organizan los datos desendentemente \n",
    "\n",
    "promedios.sort_values(by=['suma'],ascending=False)[0:1]\n",
    "print(\"Basado en maximizar la calificación de paleta y apariencia, se deberían escoger cervezas de tipo: \"\n",
    "      + str(promedios.sort_values(by=['suma'],ascending=False)[0:1].index[0]))"
   ]
  },
  {
   "cell_type": "markdown",
   "metadata": {},
   "source": [
    "# Parte 6) Función que elige cerveza"
   ]
  },
  {
   "cell_type": "markdown",
   "metadata": {},
   "source": [
    "Ahora se busca una función que recomiende al usuario una cerveza basándose en los pesos que él cree que debe tener cada componente. Se genera un nuevo promedio ponderado donde los pesos están dados por los pesos normalizados ingresados por el usuario. Con el fin de poder generar un proceso de aprendizaje se crea un vector de pesos, el cual puede irse ajustando usando un \"backward propagation\" con el fin de mejorar el modelo. Estos pesos representan en cierta forma una corrección basada en qué tan importante realmente los usuarios consideran que es un parámetro de forma inconciente. Se necesitarían datos de entranamiento para poder corregir estos pesos, en donde se tenga una lista de los pesos que los usuarios creen que dan a las cervezas y una calificación total de dicha cerveza. Este vector de pesos corregidos se deja en (1,1,1,1) por ahora. "
   ]
  },
  {
   "cell_type": "code",
   "execution_count": 23,
   "metadata": {},
   "outputs": [],
   "source": [
    "#Vector usado para la corrección de pesos\n",
    "pesos_correccion=[1,1,1,1]\n",
    "def dar_cerveza_usuario(peso_aroma,peso_apariencia,peso_paleta,calificacion_sabor):\n",
    "    \n",
    "    vector_pesos=np.array([peso_aroma,peso_apariencia,peso_paleta,calificacion_sabor])\n",
    "    vector_pesos=pesos_correccion*vector_pesos\n",
    "    #Se normaliza el vector de pesos con corrección incluida.\n",
    "    vector_pesos=vector_pesos/(sum(vector_pesos))\n",
    "    promedios=data_reducido.drop(['id_cerveceria','nombre_cerveceria','fecha_calificacion','usuario','grado_alcohol','id_cerveza','tipo_cerveza'], axis=1)\n",
    "    promedios=promedios.groupby(['nombre_cerveza']).mean()\n",
    "    #se encuentra un valor de calificación ponderado usando los pesos del usuario\n",
    "    promedios=promedios[['calificacion_aroma','calificacion_apariencia','calificacion_paleta','calificacion_sabor']]*vector_pesos\n",
    "    #Se halla un nuevo puntaje total, de modo que cuando este se elija la cerveza con el máximo de estos valores\n",
    "    promedios['nuevo_puntaje']=promedios['calificacion_aroma']+promedios['calificacion_apariencia']+promedios['calificacion_paleta']+promedios['calificacion_sabor']\n",
    "    promedios=promedios.drop(['calificacion_aroma','calificacion_apariencia','calificacion_paleta','calificacion_sabor'],axis=1)\n",
    "    return(promedios.sort_values(by=['nuevo_puntaje'],ascending=False)[0:1])\n"
   ]
  },
  {
   "cell_type": "code",
   "execution_count": 24,
   "metadata": {},
   "outputs": [
    {
     "data": {
      "text/html": [
       "<div>\n",
       "<style>\n",
       "    .dataframe thead tr:only-child th {\n",
       "        text-align: right;\n",
       "    }\n",
       "\n",
       "    .dataframe thead th {\n",
       "        text-align: left;\n",
       "    }\n",
       "\n",
       "    .dataframe tbody tr th {\n",
       "        vertical-align: top;\n",
       "    }\n",
       "</style>\n",
       "<table border=\"1\" class=\"dataframe\">\n",
       "  <thead>\n",
       "    <tr style=\"text-align: right;\">\n",
       "      <th></th>\n",
       "      <th>nuevo_puntaje</th>\n",
       "    </tr>\n",
       "    <tr>\n",
       "      <th>nombre_cerveza</th>\n",
       "      <th></th>\n",
       "    </tr>\n",
       "  </thead>\n",
       "  <tbody>\n",
       "    <tr>\n",
       "      <th>Trappist Westvleteren 12</th>\n",
       "      <td>4.630971</td>\n",
       "    </tr>\n",
       "  </tbody>\n",
       "</table>\n",
       "</div>"
      ],
      "text/plain": [
       "                          nuevo_puntaje\n",
       "nombre_cerveza                         \n",
       "Trappist Westvleteren 12       4.630971"
      ]
     },
     "execution_count": 24,
     "metadata": {},
     "output_type": "execute_result"
    }
   ],
   "source": [
    "#Realizo prueba con mayor peso en paleta\n",
    "dar_cerveza_usuario(1,1,60,1)"
   ]
  },
  {
   "cell_type": "code",
   "execution_count": 25,
   "metadata": {},
   "outputs": [
    {
     "data": {
      "text/html": [
       "<div>\n",
       "<style>\n",
       "    .dataframe thead tr:only-child th {\n",
       "        text-align: right;\n",
       "    }\n",
       "\n",
       "    .dataframe thead th {\n",
       "        text-align: left;\n",
       "    }\n",
       "\n",
       "    .dataframe tbody tr th {\n",
       "        vertical-align: top;\n",
       "    }\n",
       "</style>\n",
       "<table border=\"1\" class=\"dataframe\">\n",
       "  <thead>\n",
       "    <tr style=\"text-align: right;\">\n",
       "      <th></th>\n",
       "      <th>nuevo_puntaje</th>\n",
       "    </tr>\n",
       "    <tr>\n",
       "      <th>nombre_cerveza</th>\n",
       "      <th></th>\n",
       "    </tr>\n",
       "  </thead>\n",
       "  <tbody>\n",
       "    <tr>\n",
       "      <th>The Abyss</th>\n",
       "      <td>4.589741</td>\n",
       "    </tr>\n",
       "  </tbody>\n",
       "</table>\n",
       "</div>"
      ],
      "text/plain": [
       "                nuevo_puntaje\n",
       "nombre_cerveza               \n",
       "The Abyss            4.589741"
      ]
     },
     "execution_count": 25,
     "metadata": {},
     "output_type": "execute_result"
    }
   ],
   "source": [
    "#Realizo prueba con mayor peso en apariencia\n",
    "dar_cerveza_usuario(1,60,1,1)"
   ]
  },
  {
   "cell_type": "code",
   "execution_count": 26,
   "metadata": {},
   "outputs": [
    {
     "data": {
      "text/html": [
       "<div>\n",
       "<style>\n",
       "    .dataframe thead tr:only-child th {\n",
       "        text-align: right;\n",
       "    }\n",
       "\n",
       "    .dataframe thead th {\n",
       "        text-align: left;\n",
       "    }\n",
       "\n",
       "    .dataframe tbody tr th {\n",
       "        vertical-align: top;\n",
       "    }\n",
       "</style>\n",
       "<table border=\"1\" class=\"dataframe\">\n",
       "  <thead>\n",
       "    <tr style=\"text-align: right;\">\n",
       "      <th></th>\n",
       "      <th>nuevo_puntaje</th>\n",
       "    </tr>\n",
       "    <tr>\n",
       "      <th>nombre_cerveza</th>\n",
       "      <th></th>\n",
       "    </tr>\n",
       "  </thead>\n",
       "  <tbody>\n",
       "    <tr>\n",
       "      <th>Pliny The Younger</th>\n",
       "      <td>4.638903</td>\n",
       "    </tr>\n",
       "  </tbody>\n",
       "</table>\n",
       "</div>"
      ],
      "text/plain": [
       "                   nuevo_puntaje\n",
       "nombre_cerveza                  \n",
       "Pliny The Younger       4.638903"
      ]
     },
     "execution_count": 26,
     "metadata": {},
     "output_type": "execute_result"
    }
   ],
   "source": [
    "#Realizo prueba con valores aleatorios\n",
    "dar_cerveza_usuario(100,50,90,20)"
   ]
  },
  {
   "cell_type": "raw",
   "metadata": {},
   "source": [
    "Una red neuronal compleja basándose en el modelo anterior podría ser una buena forma de predicción para este tipo de modelo. "
   ]
  }
 ],
 "metadata": {
  "kernelspec": {
   "display_name": "Python 3",
   "language": "python",
   "name": "python3"
  },
  "language_info": {
   "codemirror_mode": {
    "name": "ipython",
    "version": 3
   },
   "file_extension": ".py",
   "mimetype": "text/x-python",
   "name": "python",
   "nbconvert_exporter": "python",
   "pygments_lexer": "ipython3",
   "version": "3.6.3"
  }
 },
 "nbformat": 4,
 "nbformat_minor": 2
}
